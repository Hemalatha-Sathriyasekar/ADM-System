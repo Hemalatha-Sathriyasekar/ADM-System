{
 "cells": [
  {
   "cell_type": "code",
   "execution_count": 1,
   "id": "887dae68-1700-47f3-9856-29d4d5fd7630",
   "metadata": {},
   "outputs": [
    {
     "name": "stdout",
     "output_type": "stream",
     "text": [
      "   Project_ID              Project_Name     Skill_Required Priority  \\\n",
      "0         101                AI Chatbot        Python, NLP     High   \n",
      "1         102        E-commerce Website     React, Node.js   Medium   \n",
      "2         103  Data Analytics Dashboard      SQL, Power BI     High   \n",
      "3         104           CRM Integration    Salesforce, API      Low   \n",
      "4         105    Mobile App Development  Flutter, Firebase   Medium   \n",
      "\n",
      "     Deadline Requested_By     Status  \n",
      "0  2025-03-01       Dept A  Allocated  \n",
      "1  2025-04-15       Dept B    Pending  \n",
      "2  2025-02-28       Dept C   Approved  \n",
      "3  2025-05-10       Dept D  Allocated  \n",
      "4  2025-03-20       Dept E   Approved  \n",
      "Index(['Project_ID', 'Project_Name', 'Skill_Required', 'Priority', 'Deadline',\n",
      "       'Requested_By', 'Status'],\n",
      "      dtype='object')\n"
     ]
    }
   ],
   "source": [
    "import pandas as pd\n",
    "\n",
    "# Load the dataset (modify this path to the correct location of your dataset)\n",
    "project_demands = pd.read_excel(\"C:/Users/Hemalatha/Downloads/Automated_Demand_Management_Dataset.xlsx\", sheet_name='Project_Demands')\n",
    "\n",
    "# Print the first few rows and column names of the dataset\n",
    "print(project_demands.head())\n",
    "print(project_demands.columns)\n"
   ]
  },
  {
   "cell_type": "code",
   "execution_count": 4,
   "id": "7760ade2-fb46-46da-8bb4-5b10f8f86734",
   "metadata": {},
   "outputs": [
    {
     "name": "stdout",
     "output_type": "stream",
     "text": [
      "Index(['Project_ID', 'Project_Name', 'Skill_Required', 'Priority', 'Deadline',\n",
      "       'Requested_By', 'Status'],\n",
      "      dtype='object')\n"
     ]
    }
   ],
   "source": [
    "import pandas as pd\n",
    "\n",
    "# Load the dataset (adjust the path if needed)\n",
    "project_demands = pd.read_excel(\"C:/Users/Hemalatha/Downloads/Automated_Demand_Management_Dataset.xlsx\", sheet_name='Project_Demands')\n",
    "\n",
    "# Print the column names to see what they are\n",
    "print(project_demands.columns)\n"
   ]
  },
  {
   "cell_type": "code",
   "execution_count": 5,
   "id": "228dbd48-f283-4513-a7f4-ed663859795e",
   "metadata": {},
   "outputs": [],
   "source": [
    "# Assuming you want to predict 'Status' based on 'Skill_Required', 'Priority', and 'Deadline'\n",
    "\n",
    "X = project_demands[['Skill_Required', 'Priority', 'Deadline']]  # Independent variables\n",
    "y = project_demands['Status']  # Target variable\n"
   ]
  },
  {
   "cell_type": "code",
   "execution_count": 7,
   "id": "ca648765-5d9c-48a0-8ded-9de55487b974",
   "metadata": {},
   "outputs": [],
   "source": [
    "# Drop rows with missing values\n",
    "project_demands = project_demands.dropna()\n",
    "\n",
    "# Now, try selecting the columns again\n",
    "X = project_demands[['Skill_Required', 'Priority', 'Deadline']]  # Adjust as per your dataset\n",
    "y = project_demands['Status']  # Adjust as per your dataset\n"
   ]
  },
  {
   "cell_type": "code",
   "execution_count": 11,
   "id": "36f4dd21-ac0c-4787-96bb-05fc47ce44f5",
   "metadata": {},
   "outputs": [
    {
     "name": "stdout",
     "output_type": "stream",
     "text": [
      "Index(['Project_ID', 'Project_Name_CRM Integration',\n",
      "       'Project_Name_Data Analytics Dashboard',\n",
      "       'Project_Name_E-commerce Website',\n",
      "       'Project_Name_Mobile App Development', 'Skill_Required_Python, NLP',\n",
      "       'Skill_Required_React, Node.js', 'Skill_Required_SQL, Power BI',\n",
      "       'Skill_Required_Salesforce, API', 'Priority_Low', 'Priority_Medium',\n",
      "       'Deadline_2025-03-01', 'Deadline_2025-03-20', 'Deadline_2025-04-15',\n",
      "       'Deadline_2025-05-10', 'Requested_By_Dept B', 'Requested_By_Dept C',\n",
      "       'Requested_By_Dept D', 'Requested_By_Dept E', 'Status_Approved',\n",
      "       'Status_Pending'],\n",
      "      dtype='object')\n",
      "   Project_ID  Project_Name_CRM Integration  \\\n",
      "0         101                         False   \n",
      "1         102                         False   \n",
      "2         103                         False   \n",
      "3         104                          True   \n",
      "4         105                         False   \n",
      "\n",
      "   Project_Name_Data Analytics Dashboard  Project_Name_E-commerce Website  \\\n",
      "0                                  False                            False   \n",
      "1                                  False                             True   \n",
      "2                                   True                            False   \n",
      "3                                  False                            False   \n",
      "4                                  False                            False   \n",
      "\n",
      "   Project_Name_Mobile App Development  Skill_Required_Python, NLP  \\\n",
      "0                                False                        True   \n",
      "1                                False                       False   \n",
      "2                                False                       False   \n",
      "3                                False                       False   \n",
      "4                                 True                       False   \n",
      "\n",
      "   Skill_Required_React, Node.js  Skill_Required_SQL, Power BI  \\\n",
      "0                          False                         False   \n",
      "1                           True                         False   \n",
      "2                          False                          True   \n",
      "3                          False                         False   \n",
      "4                          False                         False   \n",
      "\n",
      "   Skill_Required_Salesforce, API  Priority_Low  ...  Deadline_2025-03-01  \\\n",
      "0                           False         False  ...                 True   \n",
      "1                           False         False  ...                False   \n",
      "2                           False         False  ...                False   \n",
      "3                            True          True  ...                False   \n",
      "4                           False         False  ...                False   \n",
      "\n",
      "   Deadline_2025-03-20  Deadline_2025-04-15  Deadline_2025-05-10  \\\n",
      "0                False                False                False   \n",
      "1                False                 True                False   \n",
      "2                False                False                False   \n",
      "3                False                False                 True   \n",
      "4                 True                False                False   \n",
      "\n",
      "   Requested_By_Dept B  Requested_By_Dept C  Requested_By_Dept D  \\\n",
      "0                False                False                False   \n",
      "1                 True                False                False   \n",
      "2                False                 True                False   \n",
      "3                False                False                 True   \n",
      "4                False                False                False   \n",
      "\n",
      "   Requested_By_Dept E  Status_Approved  Status_Pending  \n",
      "0                False            False           False  \n",
      "1                False            False            True  \n",
      "2                False             True           False  \n",
      "3                False            False           False  \n",
      "4                 True             True           False  \n",
      "\n",
      "[5 rows x 21 columns]\n"
     ]
    }
   ],
   "source": [
    "# Check the columns of the encoded DataFrame\n",
    "print(project_demands_encoded.columns)\n",
    "\n",
    "# Check the first few rows of the DataFrame to verify the data\n",
    "print(project_demands_encoded.head())\n"
   ]
  },
  {
   "cell_type": "code",
   "execution_count": 13,
   "id": "2bd82742-b31c-4881-95b7-0aa0b93b847d",
   "metadata": {},
   "outputs": [
    {
     "name": "stdout",
     "output_type": "stream",
     "text": [
      "Index(['Project_ID', 'Project_Name_CRM Integration',\n",
      "       'Project_Name_Data Analytics Dashboard',\n",
      "       'Project_Name_E-commerce Website',\n",
      "       'Project_Name_Mobile App Development', 'Skill_Required_Python, NLP',\n",
      "       'Skill_Required_React, Node.js', 'Skill_Required_SQL, Power BI',\n",
      "       'Skill_Required_Salesforce, API', 'Priority_Low', 'Priority_Medium',\n",
      "       'Deadline_2025-03-01', 'Deadline_2025-03-20', 'Deadline_2025-04-15',\n",
      "       'Deadline_2025-05-10', 'Requested_By_Dept B', 'Requested_By_Dept C',\n",
      "       'Requested_By_Dept D', 'Requested_By_Dept E', 'Status_Approved',\n",
      "       'Status_Pending'],\n",
      "      dtype='object')\n"
     ]
    }
   ],
   "source": [
    "# Print the columns to see the correct names after encoding\n",
    "print(project_demands_encoded.columns)\n"
   ]
  },
  {
   "cell_type": "code",
   "execution_count": 17,
   "id": "00413ef5-c86c-4cf9-8142-a85b0f7047d7",
   "metadata": {},
   "outputs": [
    {
     "name": "stdout",
     "output_type": "stream",
     "text": [
      "Index(['Project_ID', 'Project_Name_CRM Integration',\n",
      "       'Project_Name_Data Analytics Dashboard',\n",
      "       'Project_Name_E-commerce Website',\n",
      "       'Project_Name_Mobile App Development', 'Skill_Required_Python, NLP',\n",
      "       'Skill_Required_React, Node.js', 'Skill_Required_SQL, Power BI',\n",
      "       'Skill_Required_Salesforce, API', 'Priority_Low', 'Priority_Medium',\n",
      "       'Deadline_2025-03-01', 'Deadline_2025-03-20', 'Deadline_2025-04-15',\n",
      "       'Deadline_2025-05-10', 'Requested_By_Dept B', 'Requested_By_Dept C',\n",
      "       'Requested_By_Dept D', 'Requested_By_Dept E', 'Status_Approved',\n",
      "       'Status_Pending'],\n",
      "      dtype='object')\n"
     ]
    }
   ],
   "source": [
    "# Print the column names to see the exact name of the status column\n",
    "print(project_demands_encoded.columns)\n"
   ]
  },
  {
   "cell_type": "code",
   "execution_count": 18,
   "id": "7ee48d78-1246-44ac-9e3b-8f2da03bfae0",
   "metadata": {},
   "outputs": [
    {
     "data": {
      "text/plain": [
       "['demand_model.pkl']"
      ]
     },
     "execution_count": 18,
     "metadata": {},
     "output_type": "execute_result"
    }
   ],
   "source": [
    "# Set 'Status_Approved' as the target variable and drop it from the features\n",
    "X = project_demands_encoded.drop('Status_Approved', axis=1)  # Independent variables\n",
    "y = project_demands_encoded['Status_Approved']  # Target variable\n",
    "\n",
    "# Initialize and train the model\n",
    "from sklearn.linear_model import LogisticRegression\n",
    "\n",
    "model = LogisticRegression()\n",
    "model.fit(X, y)\n",
    "\n",
    "# Save the model to a file\n",
    "import joblib\n",
    "joblib.dump(model, 'demand_model.pkl')\n"
   ]
  },
  {
   "cell_type": "code",
   "execution_count": 21,
   "id": "fd28316a-c067-4122-af27-a7587d531418",
   "metadata": {},
   "outputs": [
    {
     "name": "stdout",
     "output_type": "stream",
     "text": [
      "Index(['Project_ID', 'Project_Name_CRM Integration',\n",
      "       'Project_Name_Data Analytics Dashboard',\n",
      "       'Project_Name_E-commerce Website',\n",
      "       'Project_Name_Mobile App Development', 'Skill_Required_Python, NLP',\n",
      "       'Skill_Required_React, Node.js', 'Skill_Required_SQL, Power BI',\n",
      "       'Skill_Required_Salesforce, API', 'Priority_Low', 'Priority_Medium',\n",
      "       'Deadline_2025-03-01', 'Deadline_2025-03-20', 'Deadline_2025-04-15',\n",
      "       'Deadline_2025-05-10', 'Requested_By_Dept B', 'Requested_By_Dept C',\n",
      "       'Requested_By_Dept D', 'Requested_By_Dept E', 'Status_Pending'],\n",
      "      dtype='object')\n"
     ]
    }
   ],
   "source": [
    "print(X.columns)  # Assuming X is the DataFrame of training features\n"
   ]
  },
  {
   "cell_type": "code",
   "execution_count": 22,
   "id": "ac1913e7-f778-4729-ba48-722f10ee4025",
   "metadata": {},
   "outputs": [
    {
     "name": "stdout",
     "output_type": "stream",
     "text": [
      "7\n"
     ]
    }
   ],
   "source": [
    "new_data = np.array([1, 2, 3, 4, 5, 6, 7])  # For a single sample\n",
    "\n",
    "print(len(new_data))  # Check if the length matches the number of features\n"
   ]
  },
  {
   "cell_type": "code",
   "execution_count": 23,
   "id": "31ef3e6b-258a-46cb-ac69-341f25374ae1",
   "metadata": {},
   "outputs": [],
   "source": [
    "new_data = {\n",
    "    'Feature1': 1,\n",
    "    'Feature2': 2,\n",
    "    'Feature3': 3,\n",
    "    'Feature4': 4,\n",
    "    'Feature5': 5,\n",
    "    'Feature6': 6,\n",
    "    'Feature7': 7\n",
    "}\n",
    "\n",
    "# Convert the dictionary to a numpy array with correct order\n",
    "new_data_ordered = np.array([new_data['Feature1'], new_data['Feature2'], new_data['Feature3'],\n",
    "                             new_data['Feature4'], new_data['Feature5'], new_data['Feature6'],\n",
    "                             new_data['Feature7']])\n",
    "\n",
    "# Now you can reshape it and make predictions\n",
    "new_data_ordered = new_data_ordered.reshape(1, -1)  # Make it 2D for prediction\n"
   ]
  },
  {
   "cell_type": "code",
   "execution_count": 28,
   "id": "aa904d70-a182-4dcf-840a-72fb98dd68f9",
   "metadata": {},
   "outputs": [
    {
     "data": {
      "text/plain": [
       "['scaler.pkl']"
      ]
     },
     "execution_count": 28,
     "metadata": {},
     "output_type": "execute_result"
    }
   ],
   "source": [
    "from sklearn.preprocessing import StandardScaler\n",
    "import joblib\n",
    "\n",
    "# Example: Assume 'X_train' is your training data (features)\n",
    "# Replace with actual data, make sure it's a 2D array (list of lists or a pandas DataFrame)\n",
    "X_train = [\n",
    "    [10, 2.5, 3.0],  # Example row 1: Features for sample 1\n",
    "    [15, 3.5, 4.0],  # Example row 2: Features for sample 2\n",
    "    [20, 4.5, 5.0]   # Example row 3: Features for sample 3\n",
    "]  # Replace this with your actual feature data\n",
    "\n",
    "# Fit the scaler on the training data\n",
    "scaler = StandardScaler()\n",
    "X_train_scaled = scaler.fit_transform(X_train)  # Scaling the training data\n",
    "\n",
    "# Save the scaler for future use\n",
    "joblib.dump(scaler, 'scaler.pkl')\n",
    "\n",
    "# Now, you can use 'X_train_scaled' for model training or any other task.\n"
   ]
  },
  {
   "cell_type": "code",
   "execution_count": 31,
   "id": "3f447bae-77bf-407b-bd35-bbcfefb24fe3",
   "metadata": {},
   "outputs": [],
   "source": [
    "# Example new data (replace this with your actual new data)\n",
    "new_data = [\n",
    "    [18, 4.0, 4.5],  # Example new sample\n",
    "    [25, 5.0, 6.0]   # Another new sample\n",
    "]\n",
    "\n",
    "# Load the saved scaler\n",
    "scaler = joblib.load('scaler.pkl')\n",
    "\n",
    "# Scale the new data using the same scaler\n",
    "new_data_scaled = scaler.transform(new_data)\n",
    "\n",
    "# Now you can use 'new_data_scaled' to make predictions\n"
   ]
  },
  {
   "cell_type": "code",
   "execution_count": 36,
   "id": "b00a582d-1d54-44df-8519-f25c1cb08343",
   "metadata": {},
   "outputs": [
    {
     "name": "stdout",
     "output_type": "stream",
     "text": [
      "[1 1]\n"
     ]
    }
   ],
   "source": [
    "import pandas as pd\n",
    "from sklearn.preprocessing import StandardScaler\n",
    "from sklearn.linear_model import LogisticRegression\n",
    "\n",
    "# Example of training data (make sure to have a DataFrame with named columns)\n",
    "train_data = pd.DataFrame({\n",
    "    'age': [45, 30, 35],\n",
    "    'salary': [55000, 40000, 45000],\n",
    "    'years_of_experience': [10, 5, 8],\n",
    "    # Add other features here if needed\n",
    "})\n",
    "\n",
    "# Features and target\n",
    "X_train = train_data[['age', 'salary', 'years_of_experience']]  # Adjust columns as needed\n",
    "y_train = [1, 0, 1]  # Example target values (0 or 1)\n",
    "\n",
    "# Fit the scaler on the training data\n",
    "scaler = StandardScaler()\n",
    "X_train_scaled = scaler.fit_transform(X_train)\n",
    "\n",
    "# Train the Logistic Regression model\n",
    "model = LogisticRegression()\n",
    "model.fit(X_train_scaled, y_train)\n",
    "\n",
    "# Example new data for prediction (make sure to match the column names)\n",
    "new_data = pd.DataFrame({\n",
    "    'age': [50, 40],\n",
    "    'salary': [60000, 50000],\n",
    "    'years_of_experience': [12, 6],\n",
    "})\n",
    "\n",
    "# Scale the new data using the previously fitted scaler\n",
    "new_data_scaled = scaler.transform(new_data)\n",
    "\n",
    "# Predict using the trained model\n",
    "predictions = model.predict(new_data_scaled)\n",
    "\n",
    "# Output predictions\n",
    "print(predictions)\n"
   ]
  },
  {
   "cell_type": "code",
   "execution_count": 37,
   "id": "7e72959c-e4e2-41ff-b3da-c699144e2b8c",
   "metadata": {},
   "outputs": [],
   "source": [
    "# Predict using the trained model\n",
    "predictions = model.predict(new_data_scaled)\n"
   ]
  },
  {
   "cell_type": "code",
   "execution_count": 38,
   "id": "5201f621-e9ac-49c2-93a3-107036d1b731",
   "metadata": {},
   "outputs": [
    {
     "name": "stdout",
     "output_type": "stream",
     "text": [
      "[1 1]\n"
     ]
    }
   ],
   "source": [
    "print(predictions)  # Output the predictions for the new data\n"
   ]
  },
  {
   "cell_type": "code",
   "execution_count": 39,
   "id": "520e274a-5615-492a-8a6a-0f43fbd399c3",
   "metadata": {},
   "outputs": [
    {
     "name": "stdout",
     "output_type": "stream",
     "text": [
      "   Predictions\n",
      "0            1\n",
      "1            1\n"
     ]
    }
   ],
   "source": [
    "# Convert predictions to DataFrame for easy visualization\n",
    "predictions_df = pd.DataFrame(predictions, columns=['Predictions'])\n",
    "\n",
    "# Print predictions\n",
    "print(predictions_df)\n",
    "\n",
    "# Optionally, save to a CSV file\n",
    "predictions_df.to_csv('predictions.csv', index=False)\n"
   ]
  },
  {
   "cell_type": "code",
   "execution_count": 42,
   "id": "439ac104-5e9c-43e4-a552-473a643eea02",
   "metadata": {},
   "outputs": [],
   "source": [
    "from sklearn.model_selection import train_test_split\n",
    "\n",
    "# Assuming your data is in 'X' (features) and 'y' (target/labels)\n",
    "X_train, X_test, y_train, y_test = train_test_split(X, y, test_size=0.2, random_state=42)\n",
    "\n",
    "# Now, X_train and X_test represent your training and test features respectively\n"
   ]
  },
  {
   "cell_type": "code",
   "execution_count": 44,
   "id": "9d881dda-cd01-4d4b-b1f0-d19f4bd39ae8",
   "metadata": {},
   "outputs": [],
   "source": [
    "# Make sure X_test has the same columns as X_train\n",
    "X_test = X_test[X_train.columns]\n"
   ]
  },
  {
   "cell_type": "code",
   "execution_count": 48,
   "id": "123f2e3c-3dc6-493c-a95c-dcb137289945",
   "metadata": {},
   "outputs": [
    {
     "name": "stdout",
     "output_type": "stream",
     "text": [
      "Train columns: Index(['Project_ID', 'Project_Name_CRM Integration',\n",
      "       'Project_Name_Data Analytics Dashboard',\n",
      "       'Project_Name_E-commerce Website',\n",
      "       'Project_Name_Mobile App Development', 'Skill_Required_Python, NLP',\n",
      "       'Skill_Required_React, Node.js', 'Skill_Required_SQL, Power BI',\n",
      "       'Skill_Required_Salesforce, API', 'Priority_Low', 'Priority_Medium',\n",
      "       'Deadline_2025-03-01', 'Deadline_2025-03-20', 'Deadline_2025-04-15',\n",
      "       'Deadline_2025-05-10', 'Requested_By_Dept B', 'Requested_By_Dept C',\n",
      "       'Requested_By_Dept D', 'Requested_By_Dept E', 'Status_Pending'],\n",
      "      dtype='object')\n",
      "Test columns: Index(['Project_ID', 'Project_Name_CRM Integration',\n",
      "       'Project_Name_Data Analytics Dashboard',\n",
      "       'Project_Name_E-commerce Website',\n",
      "       'Project_Name_Mobile App Development', 'Skill_Required_Python, NLP',\n",
      "       'Skill_Required_React, Node.js', 'Skill_Required_SQL, Power BI',\n",
      "       'Skill_Required_Salesforce, API', 'Priority_Low', 'Priority_Medium',\n",
      "       'Deadline_2025-03-01', 'Deadline_2025-03-20', 'Deadline_2025-04-15',\n",
      "       'Deadline_2025-05-10', 'Requested_By_Dept B', 'Requested_By_Dept C',\n",
      "       'Requested_By_Dept D', 'Requested_By_Dept E', 'Status_Pending'],\n",
      "      dtype='object')\n"
     ]
    }
   ],
   "source": [
    "# Check the columns in both train and test sets\n",
    "print(\"Train columns:\", X_train.columns)\n",
    "print(\"Test columns:\", X_test.columns)\n"
   ]
  },
  {
   "cell_type": "code",
   "execution_count": 47,
   "id": "346aa253-554a-4594-8e38-4b286b835f4d",
   "metadata": {},
   "outputs": [],
   "source": [
    "# Ensure that X_test has the same columns as X_train\n",
    "X_test = X_test[X_train.columns]\n"
   ]
  },
  {
   "cell_type": "code",
   "execution_count": 51,
   "id": "3d61cb39-b2f2-4f91-a3e4-5ab81e3a9420",
   "metadata": {},
   "outputs": [
    {
     "name": "stdout",
     "output_type": "stream",
     "text": [
      "Missing columns in X_test: Index([], dtype='object')\n",
      "Extra columns in X_test: Index([], dtype='object')\n"
     ]
    }
   ],
   "source": [
    "missing_in_test = X_train.columns.difference(X_test.columns)\n",
    "extra_in_test = X_test.columns.difference(X_train.columns)\n",
    "\n",
    "print(f\"Missing columns in X_test: {missing_in_test}\")\n",
    "print(f\"Extra columns in X_test: {extra_in_test}\")\n"
   ]
  },
  {
   "cell_type": "code",
   "execution_count": 52,
   "id": "cb22cf8f-5fc2-482e-a560-080170c58768",
   "metadata": {},
   "outputs": [],
   "source": [
    "X_test = X_test.drop(extra_in_test, axis=1)\n"
   ]
  },
  {
   "cell_type": "code",
   "execution_count": 53,
   "id": "a79e46cc-bf1c-43de-b289-924d8e6c654f",
   "metadata": {},
   "outputs": [],
   "source": [
    "for col in missing_in_test:\n",
    "    X_test[col] = np.nan  # Or use 0 or some other fill value based on your context\n"
   ]
  },
  {
   "cell_type": "code",
   "execution_count": 54,
   "id": "6ea6d92e-c0cb-4ee0-9d52-04ba44839977",
   "metadata": {},
   "outputs": [],
   "source": [
    "X_test = X_test[X_train.columns]\n"
   ]
  },
  {
   "cell_type": "code",
   "execution_count": 56,
   "id": "91cf152e-039a-4abe-82b6-3e22788c2822",
   "metadata": {},
   "outputs": [
    {
     "name": "stdout",
     "output_type": "stream",
     "text": [
      "X_train columns: Index(['Project_ID', 'Project_Name_CRM Integration',\n",
      "       'Project_Name_Data Analytics Dashboard',\n",
      "       'Project_Name_E-commerce Website',\n",
      "       'Project_Name_Mobile App Development', 'Skill_Required_Python, NLP',\n",
      "       'Skill_Required_React, Node.js', 'Skill_Required_SQL, Power BI',\n",
      "       'Skill_Required_Salesforce, API', 'Priority_Low', 'Priority_Medium',\n",
      "       'Deadline_2025-03-01', 'Deadline_2025-03-20', 'Deadline_2025-04-15',\n",
      "       'Deadline_2025-05-10', 'Requested_By_Dept B', 'Requested_By_Dept C',\n",
      "       'Requested_By_Dept D', 'Requested_By_Dept E', 'Status_Pending'],\n",
      "      dtype='object')\n",
      "X_test columns: Index(['Project_ID', 'Project_Name_CRM Integration',\n",
      "       'Project_Name_Data Analytics Dashboard',\n",
      "       'Project_Name_E-commerce Website',\n",
      "       'Project_Name_Mobile App Development', 'Skill_Required_Python, NLP',\n",
      "       'Skill_Required_React, Node.js', 'Skill_Required_SQL, Power BI',\n",
      "       'Skill_Required_Salesforce, API', 'Priority_Low', 'Priority_Medium',\n",
      "       'Deadline_2025-03-01', 'Deadline_2025-03-20', 'Deadline_2025-04-15',\n",
      "       'Deadline_2025-05-10', 'Requested_By_Dept B', 'Requested_By_Dept C',\n",
      "       'Requested_By_Dept D', 'Requested_By_Dept E', 'Status_Pending'],\n",
      "      dtype='object')\n"
     ]
    }
   ],
   "source": [
    "print(f\"X_train columns: {X_train.columns}\")\n",
    "print(f\"X_test columns: {X_test.columns}\")\n"
   ]
  },
  {
   "cell_type": "code",
   "execution_count": 57,
   "id": "ad914e65-ca2b-45c2-9f70-3ea015448c48",
   "metadata": {},
   "outputs": [],
   "source": [
    "X_test = X_test[X_train.columns]\n"
   ]
  },
  {
   "cell_type": "code",
   "execution_count": 58,
   "id": "78f12fd3-ac25-4789-9a2f-c40e16400571",
   "metadata": {},
   "outputs": [],
   "source": [
    "X_train_encoded = pd.get_dummies(X_train)\n",
    "X_test_encoded = pd.get_dummies(X_test)\n",
    "\n",
    "# Re-align columns after encoding\n",
    "X_test_encoded = X_test_encoded.reindex(columns=X_train_encoded.columns, fill_value=0)\n"
   ]
  },
  {
   "cell_type": "code",
   "execution_count": 60,
   "id": "dfe19a04-a8e6-4df6-8fb3-a18e237a46f0",
   "metadata": {},
   "outputs": [],
   "source": [
    "# Align columns in X_test to match the column order of X_train\n",
    "X_test = X_test[X_train.columns]\n"
   ]
  },
  {
   "cell_type": "code",
   "execution_count": 61,
   "id": "7dc1f348-cc25-4a53-84d6-bd8006bbeffb",
   "metadata": {},
   "outputs": [],
   "source": [
    "missing_cols = set(X_train.columns) - set(X_test.columns)\n",
    "for col in missing_cols:\n",
    "    X_test[col] = 0  # or NaN if appropriate\n",
    "\n",
    "# Reorder X_test columns to match X_train columns\n",
    "X_test = X_test[X_train.columns]\n"
   ]
  },
  {
   "cell_type": "code",
   "execution_count": 62,
   "id": "50e3cf69-b9fe-472b-8c76-c809e892f62a",
   "metadata": {},
   "outputs": [],
   "source": [
    "X_train_encoded = pd.get_dummies(X_train)\n",
    "X_test_encoded = pd.get_dummies(X_test)\n",
    "\n",
    "# Align columns\n",
    "X_test_encoded = X_test_encoded.reindex(columns=X_train_encoded.columns, fill_value=0)\n"
   ]
  },
  {
   "cell_type": "code",
   "execution_count": 64,
   "id": "cf1a4a13-eda2-414e-be74-2200e13f36a3",
   "metadata": {},
   "outputs": [],
   "source": [
    "# Apply one-hot encoding to both train and test datasets (if not already done)\n",
    "X_train_encoded = pd.get_dummies(X_train)\n",
    "X_test_encoded = pd.get_dummies(X_test)\n",
    "\n",
    "# Align the columns of X_test to match the columns of X_train\n",
    "X_test_encoded = X_test_encoded.reindex(columns=X_train_encoded.columns, fill_value=0)\n"
   ]
  },
  {
   "cell_type": "code",
   "execution_count": 65,
   "id": "5554bee6-a540-441a-ba45-bdd8242ffab6",
   "metadata": {},
   "outputs": [],
   "source": [
    "missing_cols = set(X_train_encoded.columns) - set(X_test_encoded.columns)\n",
    "for col in missing_cols:\n",
    "    X_test_encoded[col] = 0  # or NaN if more appropriate for your case\n"
   ]
  },
  {
   "cell_type": "code",
   "execution_count": 66,
   "id": "885710f4-243a-445f-90e2-4b8e1d769b57",
   "metadata": {},
   "outputs": [],
   "source": [
    "X_test_encoded = X_test_encoded[X_train_encoded.columns]\n"
   ]
  },
  {
   "cell_type": "code",
   "execution_count": 68,
   "id": "7076d81c-d046-493c-9873-755dfc699606",
   "metadata": {},
   "outputs": [],
   "source": [
    "import pandas as pd\n",
    "from sklearn.preprocessing import StandardScaler\n",
    "\n",
    "# Align columns of X_train and X_test\n",
    "# If there are columns in X_train that are not in X_test, add them with NaN values\n",
    "for col in X_train.columns:\n",
    "    if col not in X_test.columns:\n",
    "        X_test[col] = pd.NA\n",
    "\n",
    "# If there are columns in X_test that are not in X_train, drop them\n",
    "X_test = X_test[X_train.columns]\n",
    "\n",
    "# Initialize the StandardScaler\n",
    "scaler = StandardScaler()\n",
    "\n",
    "# Fit the scaler on the training data\n",
    "X_train_scaled = scaler.fit_transform(X_train)\n",
    "\n",
    "# Apply the same scaling to the test data\n",
    "X_test_scaled = scaler.transform(X_test)\n",
    "\n",
    "# Convert the scaled data back to a DataFrame (optional, to maintain column names)\n",
    "X_train_scaled = pd.DataFrame(X_train_scaled, columns=X_train.columns)\n",
    "X_test_scaled = pd.DataFrame(X_test_scaled, columns=X_test.columns)\n",
    "\n",
    "# Now X_train_scaled and X_test_scaled have the same features and are scaled\n"
   ]
  },
  {
   "cell_type": "code",
   "execution_count": 69,
   "id": "e8e54511-83c1-456a-8293-3b4b8bdc9fdd",
   "metadata": {},
   "outputs": [
    {
     "name": "stdout",
     "output_type": "stream",
     "text": [
      "Model Coefficients: [[ 0.24864839 -0.20596027  0.29415193  0.          0.21971822 -0.30790988\n",
      "   0.          0.29415193 -0.20596027 -0.20596027  0.21971822 -0.30790988\n",
      "   0.21971822  0.         -0.20596027  0.          0.29415193 -0.20596027\n",
      "   0.21971822  0.        ]]\n"
     ]
    }
   ],
   "source": [
    "from sklearn.linear_model import LogisticRegression\n",
    "\n",
    "# Initialize the model\n",
    "model = LogisticRegression()\n",
    "\n",
    "# Fit the model on the scaled training data\n",
    "model.fit(X_train_scaled, y_train)\n",
    "\n",
    "# Optionally, print model coefficients for interpretation\n",
    "print(\"Model Coefficients:\", model.coef_)\n"
   ]
  },
  {
   "cell_type": "code",
   "execution_count": 70,
   "id": "b63c70c7-8b48-4ad0-ae9b-86417f488c97",
   "metadata": {},
   "outputs": [
    {
     "name": "stdout",
     "output_type": "stream",
     "text": [
      "Predictions: [ True]\n"
     ]
    }
   ],
   "source": [
    "# Make predictions on the scaled test data\n",
    "y_pred = model.predict(X_test_scaled)\n",
    "\n",
    "# Optionally, print the predicted labels\n",
    "print(\"Predictions:\", y_pred)\n"
   ]
  },
  {
   "cell_type": "code",
   "execution_count": 72,
   "id": "0042aac7-9adf-465e-ada5-78381abce490",
   "metadata": {},
   "outputs": [
    {
     "name": "stdout",
     "output_type": "stream",
     "text": [
      "              precision    recall  f1-score   support\n",
      "\n",
      "       False       0.00      0.00      0.00       1.0\n",
      "        True       0.00      0.00      0.00       0.0\n",
      "\n",
      "    accuracy                           0.00       1.0\n",
      "   macro avg       0.00      0.00      0.00       1.0\n",
      "weighted avg       0.00      0.00      0.00       1.0\n",
      "\n"
     ]
    }
   ],
   "source": [
    "from sklearn.metrics import classification_report\n",
    "\n",
    "# Classification report with zero_division to avoid division by zero warnings\n",
    "print(classification_report(y_test, y_pred, zero_division=0))\n"
   ]
  },
  {
   "cell_type": "code",
   "execution_count": 73,
   "id": "43841391-6218-47b2-81a5-d8bc0c1f34b7",
   "metadata": {},
   "outputs": [
    {
     "name": "stdout",
     "output_type": "stream",
     "text": [
      "[[0 1]\n",
      " [0 0]]\n"
     ]
    }
   ],
   "source": [
    "from sklearn.metrics import confusion_matrix\n",
    "\n",
    "# Confusion matrix\n",
    "cm = confusion_matrix(y_test, y_pred)\n",
    "print(cm)\n"
   ]
  },
  {
   "cell_type": "code",
   "execution_count": 75,
   "id": "264436ad-810f-41ae-a951-bb3cb366e22e",
   "metadata": {},
   "outputs": [
    {
     "name": "stdout",
     "output_type": "stream",
     "text": [
      "[False]\n"
     ]
    }
   ],
   "source": [
    "import numpy as np\n",
    "\n",
    "# Check unique labels in y_test\n",
    "print(np.unique(y_test))\n"
   ]
  },
  {
   "cell_type": "code",
   "execution_count": 77,
   "id": "7d21429a-415b-4836-9f11-84632dd4397e",
   "metadata": {},
   "outputs": [
    {
     "name": "stdout",
     "output_type": "stream",
     "text": [
      "(array([False,  True]), array([3, 2], dtype=int64))\n"
     ]
    }
   ],
   "source": [
    "print(np.unique(y, return_counts=True))\n"
   ]
  },
  {
   "cell_type": "code",
   "execution_count": 78,
   "id": "88dcf187-7559-46ea-a5f2-f56bfefbf00b",
   "metadata": {},
   "outputs": [],
   "source": [
    "X_train, X_test, y_train, y_test = train_test_split(X, y, test_size=0.3, stratify=y)\n"
   ]
  },
  {
   "cell_type": "code",
   "execution_count": 80,
   "id": "c1bfb689-b7d7-4ca9-8136-bf86b94d49ca",
   "metadata": {},
   "outputs": [
    {
     "name": "stdout",
     "output_type": "stream",
     "text": [
      "Status_Approved\n",
      "False    2\n",
      "True     1\n",
      "Name: count, dtype: int64\n"
     ]
    }
   ],
   "source": [
    "print(pd.Series(y_train).value_counts())\n"
   ]
  },
  {
   "cell_type": "code",
   "execution_count": 81,
   "id": "db7a3270-6640-4f14-b824-21704f57a7b5",
   "metadata": {},
   "outputs": [],
   "source": [
    "from imblearn.over_sampling import RandomOverSampler\n",
    "\n",
    "ros = RandomOverSampler(sampling_strategy='auto')\n",
    "X_resampled, y_resampled = ros.fit_resample(X_train, y_train)\n"
   ]
  },
  {
   "cell_type": "code",
   "execution_count": 83,
   "id": "a4b9fbb6-a4e0-4022-829e-37a54b714f41",
   "metadata": {},
   "outputs": [
    {
     "name": "stdout",
     "output_type": "stream",
     "text": [
      "Status_Approved\n",
      "False    2\n",
      "True     1\n",
      "Name: count, dtype: int64\n"
     ]
    }
   ],
   "source": [
    "import pandas as pd\n",
    "print(pd.Series(y_train).value_counts())\n"
   ]
  },
  {
   "cell_type": "code",
   "execution_count": 84,
   "id": "23a330cb-5295-4767-9918-9ea1ea4f2e39",
   "metadata": {},
   "outputs": [],
   "source": [
    "from imblearn.over_sampling import RandomOverSampler\n",
    "\n",
    "ros = RandomOverSampler(sampling_strategy='auto')\n",
    "X_resampled, y_resampled = ros.fit_resample(X_train, y_train)\n"
   ]
  },
  {
   "cell_type": "code",
   "execution_count": 86,
   "id": "fce55e98-50a7-4858-be09-bd992b672e40",
   "metadata": {},
   "outputs": [
    {
     "name": "stdout",
     "output_type": "stream",
     "text": [
      "Status_Approved\n",
      "False    2\n",
      "True     1\n",
      "Name: count, dtype: int64\n"
     ]
    }
   ],
   "source": [
    "import pandas as pd\n",
    "print(pd.Series(y_train).value_counts())\n"
   ]
  },
  {
   "cell_type": "code",
   "execution_count": 87,
   "id": "53294cf6-751c-40e8-9d0c-9001a7a54a9f",
   "metadata": {},
   "outputs": [],
   "source": [
    "from imblearn.over_sampling import RandomOverSampler\n",
    "\n",
    "ros = RandomOverSampler(sampling_strategy='auto')\n",
    "X_resampled, y_resampled = ros.fit_resample(X_train, y_train)\n"
   ]
  },
  {
   "cell_type": "code",
   "execution_count": 88,
   "id": "599f900b-a86f-4449-acc4-3a3634debacf",
   "metadata": {},
   "outputs": [
    {
     "name": "stdout",
     "output_type": "stream",
     "text": [
      "Status_Approved\n",
      "False    2\n",
      "True     1\n",
      "Name: count, dtype: int64\n"
     ]
    }
   ],
   "source": [
    "import pandas as pd\n",
    "print(pd.Series(y_train).value_counts())\n"
   ]
  },
  {
   "cell_type": "code",
   "execution_count": 89,
   "id": "8f26814c-ac96-44e7-b978-0bf08f5041b7",
   "metadata": {},
   "outputs": [
    {
     "name": "stdout",
     "output_type": "stream",
     "text": [
      "Status_Approved\n",
      "False    2\n",
      "True     2\n",
      "Name: count, dtype: int64\n"
     ]
    }
   ],
   "source": [
    "from imblearn.over_sampling import RandomOverSampler\n",
    "\n",
    "# Initialize RandomOverSampler\n",
    "ros = RandomOverSampler(sampling_strategy='auto')\n",
    "\n",
    "# Resample the dataset\n",
    "X_resampled, y_resampled = ros.fit_resample(X_train, y_train)\n",
    "\n",
    "# Check the new class distribution\n",
    "print(pd.Series(y_resampled).value_counts())\n"
   ]
  },
  {
   "cell_type": "code",
   "execution_count": 91,
   "id": "46c8edef-8d7f-42b1-9c96-d02550ea1c8c",
   "metadata": {},
   "outputs": [
    {
     "name": "stdout",
     "output_type": "stream",
     "text": [
      "Status_Approved\n",
      "False    2\n",
      "True     2\n",
      "Name: count, dtype: int64\n"
     ]
    }
   ],
   "source": [
    "from imblearn.over_sampling import RandomOverSampler\n",
    "import pandas as pd\n",
    "\n",
    "# Initialize RandomOverSampler\n",
    "ros = RandomOverSampler(sampling_strategy='auto')\n",
    "\n",
    "# Resample the dataset\n",
    "X_resampled, y_resampled = ros.fit_resample(X_train, y_train)\n",
    "\n",
    "# Check the new class distribution after resampling\n",
    "print(pd.Series(y_resampled).value_counts())\n"
   ]
  },
  {
   "cell_type": "code",
   "execution_count": 93,
   "id": "0da6c33f-ab7a-451d-9c3c-0a247c17d333",
   "metadata": {},
   "outputs": [
    {
     "name": "stdout",
     "output_type": "stream",
     "text": [
      "Status_Approved\n",
      "False    2\n",
      "True     1\n",
      "Name: count, dtype: int64\n",
      "Status_Approved\n",
      "True     1\n",
      "False    1\n",
      "Name: count, dtype: int64\n"
     ]
    }
   ],
   "source": [
    "print(pd.Series(y_train).value_counts())\n",
    "print(pd.Series(y_test).value_counts())\n"
   ]
  },
  {
   "cell_type": "code",
   "execution_count": 94,
   "id": "ceb9f589-4a76-4f96-ba28-43b9f022d753",
   "metadata": {},
   "outputs": [
    {
     "name": "stdout",
     "output_type": "stream",
     "text": [
      "              precision    recall  f1-score   support\n",
      "\n",
      "       False       0.50      1.00      0.67         1\n",
      "        True       1.00      0.00      0.00         1\n",
      "\n",
      "    accuracy                           0.50         2\n",
      "   macro avg       0.75      0.50      0.33         2\n",
      "weighted avg       0.75      0.50      0.33         2\n",
      "\n"
     ]
    }
   ],
   "source": [
    "from sklearn.metrics import classification_report\n",
    "print(classification_report(y_test, y_pred, zero_division=1))\n"
   ]
  },
  {
   "cell_type": "code",
   "execution_count": 95,
   "id": "02af6810-b1d1-4882-a8a8-67efe34b05ff",
   "metadata": {},
   "outputs": [
    {
     "data": {
      "text/html": [
       "<style>#sk-container-id-1 {color: black;background-color: white;}#sk-container-id-1 pre{padding: 0;}#sk-container-id-1 div.sk-toggleable {background-color: white;}#sk-container-id-1 label.sk-toggleable__label {cursor: pointer;display: block;width: 100%;margin-bottom: 0;padding: 0.3em;box-sizing: border-box;text-align: center;}#sk-container-id-1 label.sk-toggleable__label-arrow:before {content: \"▸\";float: left;margin-right: 0.25em;color: #696969;}#sk-container-id-1 label.sk-toggleable__label-arrow:hover:before {color: black;}#sk-container-id-1 div.sk-estimator:hover label.sk-toggleable__label-arrow:before {color: black;}#sk-container-id-1 div.sk-toggleable__content {max-height: 0;max-width: 0;overflow: hidden;text-align: left;background-color: #f0f8ff;}#sk-container-id-1 div.sk-toggleable__content pre {margin: 0.2em;color: black;border-radius: 0.25em;background-color: #f0f8ff;}#sk-container-id-1 input.sk-toggleable__control:checked~div.sk-toggleable__content {max-height: 200px;max-width: 100%;overflow: auto;}#sk-container-id-1 input.sk-toggleable__control:checked~label.sk-toggleable__label-arrow:before {content: \"▾\";}#sk-container-id-1 div.sk-estimator input.sk-toggleable__control:checked~label.sk-toggleable__label {background-color: #d4ebff;}#sk-container-id-1 div.sk-label input.sk-toggleable__control:checked~label.sk-toggleable__label {background-color: #d4ebff;}#sk-container-id-1 input.sk-hidden--visually {border: 0;clip: rect(1px 1px 1px 1px);clip: rect(1px, 1px, 1px, 1px);height: 1px;margin: -1px;overflow: hidden;padding: 0;position: absolute;width: 1px;}#sk-container-id-1 div.sk-estimator {font-family: monospace;background-color: #f0f8ff;border: 1px dotted black;border-radius: 0.25em;box-sizing: border-box;margin-bottom: 0.5em;}#sk-container-id-1 div.sk-estimator:hover {background-color: #d4ebff;}#sk-container-id-1 div.sk-parallel-item::after {content: \"\";width: 100%;border-bottom: 1px solid gray;flex-grow: 1;}#sk-container-id-1 div.sk-label:hover label.sk-toggleable__label {background-color: #d4ebff;}#sk-container-id-1 div.sk-serial::before {content: \"\";position: absolute;border-left: 1px solid gray;box-sizing: border-box;top: 0;bottom: 0;left: 50%;z-index: 0;}#sk-container-id-1 div.sk-serial {display: flex;flex-direction: column;align-items: center;background-color: white;padding-right: 0.2em;padding-left: 0.2em;position: relative;}#sk-container-id-1 div.sk-item {position: relative;z-index: 1;}#sk-container-id-1 div.sk-parallel {display: flex;align-items: stretch;justify-content: center;background-color: white;position: relative;}#sk-container-id-1 div.sk-item::before, #sk-container-id-1 div.sk-parallel-item::before {content: \"\";position: absolute;border-left: 1px solid gray;box-sizing: border-box;top: 0;bottom: 0;left: 50%;z-index: -1;}#sk-container-id-1 div.sk-parallel-item {display: flex;flex-direction: column;z-index: 1;position: relative;background-color: white;}#sk-container-id-1 div.sk-parallel-item:first-child::after {align-self: flex-end;width: 50%;}#sk-container-id-1 div.sk-parallel-item:last-child::after {align-self: flex-start;width: 50%;}#sk-container-id-1 div.sk-parallel-item:only-child::after {width: 0;}#sk-container-id-1 div.sk-dashed-wrapped {border: 1px dashed gray;margin: 0 0.4em 0.5em 0.4em;box-sizing: border-box;padding-bottom: 0.4em;background-color: white;}#sk-container-id-1 div.sk-label label {font-family: monospace;font-weight: bold;display: inline-block;line-height: 1.2em;}#sk-container-id-1 div.sk-label-container {text-align: center;}#sk-container-id-1 div.sk-container {/* jupyter's `normalize.less` sets `[hidden] { display: none; }` but bootstrap.min.css set `[hidden] { display: none !important; }` so we also need the `!important` here to be able to override the default hidden behavior on the sphinx rendered scikit-learn.org. See: https://github.com/scikit-learn/scikit-learn/issues/21755 */display: inline-block !important;position: relative;}#sk-container-id-1 div.sk-text-repr-fallback {display: none;}</style><div id=\"sk-container-id-1\" class=\"sk-top-container\"><div class=\"sk-text-repr-fallback\"><pre>LogisticRegression(class_weight=&#x27;balanced&#x27;)</pre><b>In a Jupyter environment, please rerun this cell to show the HTML representation or trust the notebook. <br />On GitHub, the HTML representation is unable to render, please try loading this page with nbviewer.org.</b></div><div class=\"sk-container\" hidden><div class=\"sk-item\"><div class=\"sk-estimator sk-toggleable\"><input class=\"sk-toggleable__control sk-hidden--visually\" id=\"sk-estimator-id-1\" type=\"checkbox\" checked><label for=\"sk-estimator-id-1\" class=\"sk-toggleable__label sk-toggleable__label-arrow\">LogisticRegression</label><div class=\"sk-toggleable__content\"><pre>LogisticRegression(class_weight=&#x27;balanced&#x27;)</pre></div></div></div></div></div>"
      ],
      "text/plain": [
       "LogisticRegression(class_weight='balanced')"
      ]
     },
     "execution_count": 95,
     "metadata": {},
     "output_type": "execute_result"
    }
   ],
   "source": [
    "model = LogisticRegression(class_weight='balanced')\n",
    "model.fit(X_resampled, y_resampled)\n"
   ]
  },
  {
   "cell_type": "code",
   "execution_count": 99,
   "id": "497736a2-8ba3-43e9-8bc4-5157e5c1dce8",
   "metadata": {},
   "outputs": [
    {
     "name": "stdout",
     "output_type": "stream",
     "text": [
      "(5, 20)\n",
      "(5,)\n"
     ]
    }
   ],
   "source": [
    "print(X.shape)  # Should be (n_samples, n_features)\n",
    "print(y.shape)  # Should be (n_samples,)\n"
   ]
  },
  {
   "cell_type": "code",
   "execution_count": 100,
   "id": "c19af0b8-e512-4f06-a20d-583de15a05f0",
   "metadata": {},
   "outputs": [
    {
     "name": "stdout",
     "output_type": "stream",
     "text": [
      "(3, 20) (3,)\n"
     ]
    }
   ],
   "source": [
    "print(X_train.shape, y_train.shape)\n"
   ]
  },
  {
   "cell_type": "code",
   "execution_count": 101,
   "id": "bec32de3-97e9-450f-815c-b749d04641bc",
   "metadata": {},
   "outputs": [],
   "source": [
    "# If using pandas DataFrame, convert to numpy array\n",
    "X = X.to_numpy()  # Converts to numpy array if using pandas DataFrame\n"
   ]
  },
  {
   "cell_type": "code",
   "execution_count": 103,
   "id": "6c42ed4d-ebb5-4970-9965-b82d81e6e1dc",
   "metadata": {},
   "outputs": [
    {
     "name": "stdout",
     "output_type": "stream",
     "text": [
      "(5, 20)\n",
      "(5,)\n"
     ]
    }
   ],
   "source": [
    "# Check the shape of X and y\n",
    "print(X.shape)  # Should be (n_samples, n_features)\n",
    "print(y.shape)  # Should be (n_samples,)\n"
   ]
  },
  {
   "cell_type": "code",
   "execution_count": 106,
   "id": "1949b5cb-da58-47af-9d16-c29bbc29f194",
   "metadata": {},
   "outputs": [
    {
     "name": "stdout",
     "output_type": "stream",
     "text": [
      "Train size after SMOTE: 804\n",
      "Test size: 200\n",
      "Train size after SMOTE: 804\n",
      "Test size: 200\n",
      "Train size after SMOTE: 804\n",
      "Test size: 200\n",
      "Train size after SMOTE: 806\n",
      "Test size: 200\n",
      "Train size after SMOTE: 806\n",
      "Test size: 200\n"
     ]
    }
   ],
   "source": [
    "import numpy as np\n",
    "from sklearn.model_selection import StratifiedKFold\n",
    "from imblearn.over_sampling import SMOTE\n",
    "from sklearn.datasets import make_classification\n",
    "\n",
    "# Example dataset (Remove this if you already have X and y)\n",
    "# This will create a dummy dataset for demonstration purposes\n",
    "X, y = make_classification(n_samples=1000, n_features=20, n_classes=2, \n",
    "                           n_informative=10, n_redundant=5, \n",
    "                           random_state=42)\n",
    "\n",
    "# Initialize StratifiedKFold\n",
    "skf = StratifiedKFold(n_splits=5, shuffle=True, random_state=42)\n",
    "\n",
    "# Initialize SMOTE with desired parameters\n",
    "smote = SMOTE(sampling_strategy='auto', k_neighbors=5)\n",
    "\n",
    "# Split the data into train/test sets and apply SMOTE\n",
    "for train_idx, test_idx in skf.split(X, y):\n",
    "    # Create train and test sets\n",
    "    X_train, X_test = X[train_idx], X[test_idx]\n",
    "    y_train, y_test = y[train_idx], y[test_idx]\n",
    "    \n",
    "    # Apply SMOTE to the training data to handle imbalanced classes\n",
    "    X_resampled, y_resampled = smote.fit_resample(X_train, y_train)\n",
    "    \n",
    "    # Now X_resampled and y_resampled are ready for model training\n",
    "    print(f\"Train size after SMOTE: {X_resampled.shape[0]}\")\n",
    "    print(f\"Test size: {X_test.shape[0]}\")\n",
    "\n",
    "    # You can now train your model with X_resampled, y_resampled\n",
    "    # For example, if using a classifier:\n",
    "    # model.fit(X_resampled, y_resampled)\n",
    "    # y_pred = model.predict(X_test)\n"
   ]
  },
  {
   "cell_type": "code",
   "execution_count": 107,
   "id": "9bf63eae-da40-422c-b3e9-4e6027f41db0",
   "metadata": {},
   "outputs": [
    {
     "name": "stdout",
     "output_type": "stream",
     "text": [
      "Defaulting to user installation because normal site-packages is not writeableNote: you may need to restart the kernel to use updated packages.\n",
      "\n",
      "Requirement already satisfied: imbalanced-learn in c:\\programdata\\anaconda3\\lib\\site-packages (0.11.0)\n",
      "Requirement already satisfied: scikit-learn in c:\\programdata\\anaconda3\\lib\\site-packages (1.2.2)\n",
      "Requirement already satisfied: numpy>=1.17.3 in c:\\programdata\\anaconda3\\lib\\site-packages (from imbalanced-learn) (1.26.4)\n",
      "Requirement already satisfied: scipy>=1.5.0 in c:\\programdata\\anaconda3\\lib\\site-packages (from imbalanced-learn) (1.11.4)\n",
      "Requirement already satisfied: joblib>=1.1.1 in c:\\programdata\\anaconda3\\lib\\site-packages (from imbalanced-learn) (1.2.0)\n",
      "Requirement already satisfied: threadpoolctl>=2.0.0 in c:\\programdata\\anaconda3\\lib\\site-packages (from imbalanced-learn) (2.2.0)\n"
     ]
    }
   ],
   "source": [
    "pip install imbalanced-learn scikit-learn\n"
   ]
  },
  {
   "cell_type": "code",
   "execution_count": 109,
   "id": "5603e668-de93-418f-af35-a7f31cac231c",
   "metadata": {},
   "outputs": [
    {
     "name": "stdout",
     "output_type": "stream",
     "text": [
      "Train size after SMOTE: 804\n",
      "Test size: 200\n",
      "Classification Report for fold:\n",
      "              precision    recall  f1-score   support\n",
      "\n",
      "           0       0.88      0.90      0.89        99\n",
      "           1       0.90      0.88      0.89       101\n",
      "\n",
      "    accuracy                           0.89       200\n",
      "   macro avg       0.89      0.89      0.89       200\n",
      "weighted avg       0.89      0.89      0.89       200\n",
      "\n",
      "Train size after SMOTE: 804\n",
      "Test size: 200\n",
      "Classification Report for fold:\n",
      "              precision    recall  f1-score   support\n",
      "\n",
      "           0       0.85      0.81      0.83        99\n",
      "           1       0.82      0.86      0.84       101\n",
      "\n",
      "    accuracy                           0.83       200\n",
      "   macro avg       0.84      0.83      0.83       200\n",
      "weighted avg       0.84      0.83      0.83       200\n",
      "\n",
      "Train size after SMOTE: 804\n",
      "Test size: 200\n",
      "Classification Report for fold:\n",
      "              precision    recall  f1-score   support\n",
      "\n",
      "           0       0.82      0.87      0.84        99\n",
      "           1       0.86      0.81      0.84       101\n",
      "\n",
      "    accuracy                           0.84       200\n",
      "   macro avg       0.84      0.84      0.84       200\n",
      "weighted avg       0.84      0.84      0.84       200\n",
      "\n",
      "Train size after SMOTE: 806\n",
      "Test size: 200\n",
      "Classification Report for fold:\n",
      "              precision    recall  f1-score   support\n",
      "\n",
      "           0       0.84      0.76      0.80       100\n",
      "           1       0.78      0.85      0.81       100\n",
      "\n",
      "    accuracy                           0.81       200\n",
      "   macro avg       0.81      0.80      0.80       200\n",
      "weighted avg       0.81      0.81      0.80       200\n",
      "\n",
      "Train size after SMOTE: 806\n",
      "Test size: 200\n",
      "Classification Report for fold:\n",
      "              precision    recall  f1-score   support\n",
      "\n",
      "           0       0.83      0.83      0.83       100\n",
      "           1       0.83      0.83      0.83       100\n",
      "\n",
      "    accuracy                           0.83       200\n",
      "   macro avg       0.83      0.83      0.83       200\n",
      "weighted avg       0.83      0.83      0.83       200\n",
      "\n",
      "\n",
      "Overall classification report (after cross-validation):\n",
      "              precision    recall  f1-score   support\n",
      "\n",
      "           0       0.84      0.83      0.84       497\n",
      "           1       0.84      0.85      0.84       503\n",
      "\n",
      "    accuracy                           0.84      1000\n",
      "   macro avg       0.84      0.84      0.84      1000\n",
      "weighted avg       0.84      0.84      0.84      1000\n",
      "\n"
     ]
    }
   ],
   "source": [
    "import numpy as np\n",
    "from sklearn.model_selection import StratifiedKFold\n",
    "from imblearn.over_sampling import SMOTE\n",
    "from sklearn.datasets import make_classification\n",
    "from sklearn.linear_model import LogisticRegression\n",
    "from sklearn.metrics import classification_report\n",
    "\n",
    "# Example dataset (Remove this if you already have X and y)\n",
    "X, y = make_classification(n_samples=1000, n_features=20, n_classes=2, \n",
    "                           n_informative=10, n_redundant=5, \n",
    "                           random_state=42)\n",
    "\n",
    "# Initialize StratifiedKFold\n",
    "skf = StratifiedKFold(n_splits=5, shuffle=True, random_state=42)\n",
    "\n",
    "# Initialize SMOTE with desired parameters\n",
    "smote = SMOTE(sampling_strategy='auto', k_neighbors=5)\n",
    "\n",
    "# For tracking overall results\n",
    "all_y_true = []\n",
    "all_y_pred = []\n",
    "\n",
    "# Split the data into train/test sets and apply SMOTE\n",
    "for train_idx, test_idx in skf.split(X, y):\n",
    "    # Create train and test sets\n",
    "    X_train, X_test = X[train_idx], X[test_idx]\n",
    "    y_train, y_test = y[train_idx], y[test_idx]\n",
    "    \n",
    "    # Apply SMOTE to the training data to handle imbalanced classes\n",
    "    X_resampled, y_resampled = smote.fit_resample(X_train, y_train)\n",
    "    \n",
    "    # Now X_resampled and y_resampled are ready for model training\n",
    "    print(f\"Train size after SMOTE: {X_resampled.shape[0]}\")\n",
    "    print(f\"Test size: {X_test.shape[0]}\")\n",
    "\n",
    "    # Create and train the model (Logistic Regression here, but you can use any classifier)\n",
    "    model = LogisticRegression(max_iter=1000)\n",
    "    model.fit(X_resampled, y_resampled)\n",
    "    \n",
    "    # Predict on the test set\n",
    "    y_pred = model.predict(X_test)\n",
    "    \n",
    "    # Append the results for evaluation\n",
    "    all_y_true.extend(y_test)\n",
    "    all_y_pred.extend(y_pred)\n",
    "    \n",
    "    # Optionally, print classification report for each fold\n",
    "    print(f\"Classification Report for fold:\")\n",
    "    print(classification_report(y_test, y_pred))\n",
    "\n",
    "# You can also compute overall performance metrics after cross-validation\n",
    "print(\"\\nOverall classification report (after cross-validation):\")\n",
    "print(classification_report(all_y_true, all_y_pred))\n"
   ]
  },
  {
   "cell_type": "code",
   "execution_count": 110,
   "id": "3ffd5bca-fc1d-4737-bcdb-f87004fe8729",
   "metadata": {},
   "outputs": [
    {
     "name": "stdout",
     "output_type": "stream",
     "text": [
      "Best Hyperparameters: {'C': 10}\n"
     ]
    }
   ],
   "source": [
    "from sklearn.model_selection import GridSearchCV\n",
    "\n",
    "param_grid = {'C': [0.1, 1, 10]}  # Example hyperparameters for Logistic Regression\n",
    "grid_search = GridSearchCV(LogisticRegression(max_iter=1000), param_grid, cv=3)\n",
    "grid_search.fit(X_resampled, y_resampled)\n",
    "print(\"Best Hyperparameters:\", grid_search.best_params_)\n"
   ]
  },
  {
   "cell_type": "code",
   "execution_count": 111,
   "id": "a4845713-7a0f-4e85-9004-0d051ac580c8",
   "metadata": {},
   "outputs": [
    {
     "data": {
      "image/png": "[encoded data removed]",
      "text/plain": [
       "<Figure size 600x600 with 1 Axes>"
      ]
     },
     "metadata": {},
     "output_type": "display_data"
    }
   ],
   "source": [
    "from sklearn.metrics import confusion_matrix\n",
    "import seaborn as sns\n",
    "import matplotlib.pyplot as plt\n",
    "\n",
    "# Generate confusion matrix\n",
    "cm = confusion_matrix(all_y_true, all_y_pred)\n",
    "\n",
    "# Plot confusion matrix using seaborn\n",
    "plt.figure(figsize=(6,6))\n",
    "sns.heatmap(cm, annot=True, fmt=\"d\", cmap=\"Blues\", cbar=False,\n",
    "            xticklabels=[\"Class 0\", \"Class 1\"], yticklabels=[\"Class 0\", \"Class 1\"])\n",
    "plt.xlabel('Predicted')\n",
    "plt.ylabel('True')\n",
    "plt.title('Confusion Matrix')\n",
    "plt.show()\n"
   ]
  },
  {
   "cell_type": "code",
   "execution_count": 112,
   "id": "67d165c3-57b9-47fb-8288-39bfece695bb",
   "metadata": {},
   "outputs": [
    {
     "data": {
      "image/png": "[encoded data removed]",
      "text/plain": [
       "<Figure size 600x600 with 1 Axes>"
      ]
     },
     "metadata": {},
     "output_type": "display_data"
    }
   ],
   "source": [
    "from sklearn.metrics import confusion_matrix\n",
    "import seaborn as sns\n",
    "import matplotlib.pyplot as plt\n",
    "\n",
    "# Generate confusion matrix\n",
    "cm = confusion_matrix(all_y_true, all_y_pred)\n",
    "\n",
    "# Plot confusion matrix using seaborn\n",
    "plt.figure(figsize=(6,6))\n",
    "sns.heatmap(cm, annot=True, fmt=\"d\", cmap=\"Blues\", cbar=False,\n",
    "            xticklabels=[\"Class 0\", \"Class 1\"], yticklabels=[\"Class 0\", \"Class 1\"])\n",
    "plt.xlabel('Predicted')\n",
    "plt.ylabel('True')\n",
    "plt.title('Confusion Matrix')\n",
    "plt.show()\n"
   ]
  },
  {
   "cell_type": "code",
   "execution_count": 113,
   "id": "cd7fda96-cc54-4b74-b324-12b52ca7f879",
   "metadata": {},
   "outputs": [
    {
     "name": "stdout",
     "output_type": "stream",
     "text": [
      "Best Hyperparameters: {'C': 0.1, 'solver': 'liblinear'}\n"
     ]
    }
   ],
   "source": [
    "from sklearn.model_selection import GridSearchCV\n",
    "\n",
    "# Example: tuning hyperparameters for Logistic Regression\n",
    "param_grid = {'C': [0.1, 1, 10], 'solver': ['liblinear', 'saga']}\n",
    "grid_search = GridSearchCV(LogisticRegression(max_iter=1000), param_grid, cv=5)\n",
    "grid_search.fit(X_resampled, y_resampled)\n",
    "\n",
    "# Best hyperparameters found\n",
    "print(\"Best Hyperparameters:\", grid_search.best_params_)\n",
    "\n",
    "# Use the best model found by GridSearchCV\n",
    "best_model = grid_search.best_estimator_\n"
   ]
  },
  {
   "cell_type": "code",
   "execution_count": 114,
   "id": "a2fcd80e-3fbf-429e-9434-fe4748ba03bf",
   "metadata": {},
   "outputs": [
    {
     "data": {
      "text/html": [
       "<style>#sk-container-id-2 {color: black;background-color: white;}#sk-container-id-2 pre{padding: 0;}#sk-container-id-2 div.sk-toggleable {background-color: white;}#sk-container-id-2 label.sk-toggleable__label {cursor: pointer;display: block;width: 100%;margin-bottom: 0;padding: 0.3em;box-sizing: border-box;text-align: center;}#sk-container-id-2 label.sk-toggleable__label-arrow:before {content: \"▸\";float: left;margin-right: 0.25em;color: #696969;}#sk-container-id-2 label.sk-toggleable__label-arrow:hover:before {color: black;}#sk-container-id-2 div.sk-estimator:hover label.sk-toggleable__label-arrow:before {color: black;}#sk-container-id-2 div.sk-toggleable__content {max-height: 0;max-width: 0;overflow: hidden;text-align: left;background-color: #f0f8ff;}#sk-container-id-2 div.sk-toggleable__content pre {margin: 0.2em;color: black;border-radius: 0.25em;background-color: #f0f8ff;}#sk-container-id-2 input.sk-toggleable__control:checked~div.sk-toggleable__content {max-height: 200px;max-width: 100%;overflow: auto;}#sk-container-id-2 input.sk-toggleable__control:checked~label.sk-toggleable__label-arrow:before {content: \"▾\";}#sk-container-id-2 div.sk-estimator input.sk-toggleable__control:checked~label.sk-toggleable__label {background-color: #d4ebff;}#sk-container-id-2 div.sk-label input.sk-toggleable__control:checked~label.sk-toggleable__label {background-color: #d4ebff;}#sk-container-id-2 input.sk-hidden--visually {border: 0;clip: rect(1px 1px 1px 1px);clip: rect(1px, 1px, 1px, 1px);height: 1px;margin: -1px;overflow: hidden;padding: 0;position: absolute;width: 1px;}#sk-container-id-2 div.sk-estimator {font-family: monospace;background-color: #f0f8ff;border: 1px dotted black;border-radius: 0.25em;box-sizing: border-box;margin-bottom: 0.5em;}#sk-container-id-2 div.sk-estimator:hover {background-color: #d4ebff;}#sk-container-id-2 div.sk-parallel-item::after {content: \"\";width: 100%;border-bottom: 1px solid gray;flex-grow: 1;}#sk-container-id-2 div.sk-label:hover label.sk-toggleable__label {background-color: #d4ebff;}#sk-container-id-2 div.sk-serial::before {content: \"\";position: absolute;border-left: 1px solid gray;box-sizing: border-box;top: 0;bottom: 0;left: 50%;z-index: 0;}#sk-container-id-2 div.sk-serial {display: flex;flex-direction: column;align-items: center;background-color: white;padding-right: 0.2em;padding-left: 0.2em;position: relative;}#sk-container-id-2 div.sk-item {position: relative;z-index: 1;}#sk-container-id-2 div.sk-parallel {display: flex;align-items: stretch;justify-content: center;background-color: white;position: relative;}#sk-container-id-2 div.sk-item::before, #sk-container-id-2 div.sk-parallel-item::before {content: \"\";position: absolute;border-left: 1px solid gray;box-sizing: border-box;top: 0;bottom: 0;left: 50%;z-index: -1;}#sk-container-id-2 div.sk-parallel-item {display: flex;flex-direction: column;z-index: 1;position: relative;background-color: white;}#sk-container-id-2 div.sk-parallel-item:first-child::after {align-self: flex-end;width: 50%;}#sk-container-id-2 div.sk-parallel-item:last-child::after {align-self: flex-start;width: 50%;}#sk-container-id-2 div.sk-parallel-item:only-child::after {width: 0;}#sk-container-id-2 div.sk-dashed-wrapped {border: 1px dashed gray;margin: 0 0.4em 0.5em 0.4em;box-sizing: border-box;padding-bottom: 0.4em;background-color: white;}#sk-container-id-2 div.sk-label label {font-family: monospace;font-weight: bold;display: inline-block;line-height: 1.2em;}#sk-container-id-2 div.sk-label-container {text-align: center;}#sk-container-id-2 div.sk-container {/* jupyter's `normalize.less` sets `[hidden] { display: none; }` but bootstrap.min.css set `[hidden] { display: none !important; }` so we also need the `!important` here to be able to override the default hidden behavior on the sphinx rendered scikit-learn.org. See: https://github.com/scikit-learn/scikit-learn/issues/21755 */display: inline-block !important;position: relative;}#sk-container-id-2 div.sk-text-repr-fallback {display: none;}</style><div id=\"sk-container-id-2\" class=\"sk-top-container\"><div class=\"sk-text-repr-fallback\"><pre>LogisticRegression(C=0.1, max_iter=1000)</pre><b>In a Jupyter environment, please rerun this cell to show the HTML representation or trust the notebook. <br />On GitHub, the HTML representation is unable to render, please try loading this page with nbviewer.org.</b></div><div class=\"sk-container\" hidden><div class=\"sk-item\"><div class=\"sk-estimator sk-toggleable\"><input class=\"sk-toggleable__control sk-hidden--visually\" id=\"sk-estimator-id-2\" type=\"checkbox\" checked><label for=\"sk-estimator-id-2\" class=\"sk-toggleable__label sk-toggleable__label-arrow\">LogisticRegression</label><div class=\"sk-toggleable__content\"><pre>LogisticRegression(C=0.1, max_iter=1000)</pre></div></div></div></div></div>"
      ],
      "text/plain": [
       "LogisticRegression(C=0.1, max_iter=1000)"
      ]
     },
     "execution_count": 114,
     "metadata": {},
     "output_type": "execute_result"
    }
   ],
   "source": [
    "final_model = LogisticRegression(max_iter=1000, C=grid_search.best_params_['C'])\n",
    "final_model.fit(X_resampled, y_resampled)\n"
   ]
  },
  {
   "cell_type": "code",
   "execution_count": 115,
   "id": "9d7a73e5-802d-42ba-9a18-edf9a7efc8fe",
   "metadata": {},
   "outputs": [
    {
     "name": "stdout",
     "output_type": "stream",
     "text": [
      "              precision    recall  f1-score   support\n",
      "\n",
      "           0       0.84      0.83      0.83       100\n",
      "           1       0.83      0.84      0.84       100\n",
      "\n",
      "    accuracy                           0.83       200\n",
      "   macro avg       0.84      0.83      0.83       200\n",
      "weighted avg       0.84      0.83      0.83       200\n",
      "\n"
     ]
    }
   ],
   "source": [
    "final_y_pred = final_model.predict(X_test)\n",
    "print(classification_report(y_test, final_y_pred))\n"
   ]
  },
  {
   "cell_type": "code",
   "execution_count": 116,
   "id": "2860a765-6e80-4edd-8102-a5be2d1ecc50",
   "metadata": {},
   "outputs": [
    {
     "data": {
      "text/plain": [
       "['final_model.pkl']"
      ]
     },
     "execution_count": 116,
     "metadata": {},
     "output_type": "execute_result"
    }
   ],
   "source": [
    "import joblib\n",
    "\n",
    "# Save the trained model to a file\n",
    "joblib.dump(final_model, 'final_model.pkl')\n"
   ]
  },
  {
   "cell_type": "code",
   "execution_count": 133,
   "id": "f39bb94b-8177-41bf-962a-17dbb88c2f65",
   "metadata": {},
   "outputs": [],
   "source": [
    "# Load the model from the file\n",
    "loaded_model = joblib.load('final_model.pkl')\n"
   ]
  },
  {
   "cell_type": "code",
   "execution_count": 134,
   "id": "3c9a0fc6-26c8-4948-879d-373811994758",
   "metadata": {},
   "outputs": [
    {
     "name": "stdout",
     "output_type": "stream",
     "text": [
      "Defaulting to user installation because normal site-packages is not writeable\n",
      "Requirement already satisfied: flask in c:\\programdata\\anaconda3\\lib\\site-packages (2.2.5)\n",
      "Requirement already satisfied: joblib in c:\\programdata\\anaconda3\\lib\\site-packages (1.2.0)\n",
      "Requirement already satisfied: numpy in c:\\programdata\\anaconda3\\lib\\site-packages (1.26.4)\n",
      "Requirement already satisfied: Werkzeug>=2.2.2 in c:\\programdata\\anaconda3\\lib\\site-packages (from flask) (2.2.3)\n",
      "Requirement already satisfied: Jinja2>=3.0 in c:\\programdata\\anaconda3\\lib\\site-packages (from flask) (3.1.3)\n",
      "Requirement already satisfied: itsdangerous>=2.0 in c:\\programdata\\anaconda3\\lib\\site-packages (from flask) (2.0.1)\n",
      "Requirement already satisfied: click>=8.0 in c:\\programdata\\anaconda3\\lib\\site-packages (from flask) (8.1.7)\n",
      "Requirement already satisfied: colorama in c:\\programdata\\anaconda3\\lib\\site-packages (from click>=8.0->flask) (0.4.6)\n",
      "Requirement already satisfied: MarkupSafe>=2.0 in c:\\programdata\\anaconda3\\lib\\site-packages (from Jinja2>=3.0->flask) (2.1.3)\n",
      "Note: you may need to restart the kernel to use updated packages.\n"
     ]
    }
   ],
   "source": [
    "pip install flask joblib numpy\n"
   ]
  },
  {
   "cell_type": "code",
   "execution_count": 135,
   "id": "ffc2060c-4060-4f94-9678-b72de65b8bd3",
   "metadata": {},
   "outputs": [
    {
     "name": "stdout",
     "output_type": "stream",
     "text": [
      " * Serving Flask app '__main__'\n",
      " * Debug mode: on\n"
     ]
    },
    {
     "name": "stderr",
     "output_type": "stream",
     "text": [
      "WARNING: This is a development server. Do not use it in a production deployment. Use a production WSGI server instead.\n",
      " * Running on http://127.0.0.1:5000\n",
      "Press CTRL+C to quit\n",
      " * Restarting with watchdog (windowsapi)\n"
     ]
    },
    {
     "ename": "SystemExit",
     "evalue": "1",
     "output_type": "error",
     "traceback": [
      "An exception has occurred, use %tb to see the full traceback.\n",
      "\u001b[1;31mSystemExit\u001b[0m\u001b[1;31m:\u001b[0m 1\n"
     ]
    }
   ],
   "source": [
    "from flask import Flask, request, jsonify\n",
    "import joblib\n",
    "import numpy as np\n",
    "\n",
    "# Load the trained model\n",
    "model = joblib.load('final_model.pkl')  # Make sure this file is in the same folder or specify the correct path\n",
    "\n",
    "app = Flask(__name__)\n",
    "\n",
    "@app.route('/predict', methods=['POST'])\n",
    "def predict():\n",
    "    # Get JSON input from the request\n",
    "    data = request.get_json()\n",
    "\n",
    "    # Convert input data into the format the model expects\n",
    "    features = np.array(data['features']).reshape(1, -1)  # Make sure input features are a 1D array\n",
    "\n",
    "    # Get prediction from the model\n",
    "    prediction = model.predict(features)\n",
    "\n",
    "    # Return the prediction as a JSON response\n",
    "    return jsonify({'prediction': prediction[0]})\n",
    "\n",
    "if __name__ == '__main__':\n",
    "    app.run(debug=True)\n"
   ]
  },
  {
   "cell_type": "code",
   "execution_count": 7,
   "id": "418d71f6-3c36-4d97-905c-6a3a6d37178f",
   "metadata": {},
   "outputs": [
    {
     "name": "stdout",
     "output_type": "stream",
     "text": [
      "Index(['Project_ID', 'Project_Name', 'Skill_Required', 'Priority', 'Deadline',\n",
      "       'Requested_By', 'Status'],\n",
      "      dtype='object')\n"
     ]
    }
   ],
   "source": [
    "print(df.columns)\n"
   ]
  },
  {
   "cell_type": "code",
   "execution_count": 9,
   "id": "e3813543-d777-4519-a564-efe14a5eb07e",
   "metadata": {},
   "outputs": [],
   "source": [
    "# Convert the 'Deadline' column to datetime\n",
    "df['Deadline'] = pd.to_datetime(df['Deadline'], errors='coerce')\n",
    "\n",
    "# Convert the 'Deadline' column to timestamp (seconds since epoch)\n",
    "df['Deadline'] = df['Deadline'].astype('int64') / 10**9  # Convert to timestamp (seconds)\n"
   ]
  },
  {
   "cell_type": "code",
   "execution_count": null,
   "id": "fb44844b-08d4-4e5e-b176-c8f683c13c25",
   "metadata": {},
   "outputs": [],
   "source": []
  }
 ],
 "metadata": {
  "kernelspec": {
   "display_name": "Python 3 (ipykernel)",
   "language": "python",
   "name": "python3"
  },
  "language_info": {
   "codemirror_mode": {
    "name": "ipython",
    "version": 3
   },
   "file_extension": ".py",
   "mimetype": "text/x-python",
   "name": "python",
   "nbconvert_exporter": "python",
   "pygments_lexer": "ipython3",
   "version": "3.11.7"
  }
 },
 "nbformat": 4,
 "nbformat_minor": 5
}
